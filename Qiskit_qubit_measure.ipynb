{
  "nbformat": 4,
  "nbformat_minor": 0,
  "metadata": {
    "colab": {
      "provenance": []
    },
    "kernelspec": {
      "name": "python3",
      "display_name": "Python 3"
    },
    "language_info": {
      "name": "python"
    }
  },
  "cells": [
    {
      "cell_type": "code",
      "source": [
        "!pip install qiskit qiskit-aer --upgrade"
      ],
      "metadata": {
        "id": "Mx6284lurNt1",
        "colab": {
          "base_uri": "https://localhost:8080/"
        },
        "outputId": "5ef66e44-a88e-4479-82ba-e0e685d699c1"
      },
      "execution_count": null,
      "outputs": [
        {
          "output_type": "stream",
          "name": "stdout",
          "text": [
            "Collecting qiskit\n",
            "  Downloading qiskit-2.2.1-cp39-abi3-manylinux2014_x86_64.manylinux_2_17_x86_64.whl.metadata (12 kB)\n",
            "Collecting qiskit-aer\n",
            "  Downloading qiskit_aer-0.17.2-cp312-cp312-manylinux_2_17_x86_64.manylinux2014_x86_64.whl.metadata (8.3 kB)\n",
            "Collecting rustworkx>=0.15.0 (from qiskit)\n",
            "  Downloading rustworkx-0.17.1-cp39-abi3-manylinux_2_17_x86_64.manylinux2014_x86_64.whl.metadata (10 kB)\n",
            "Requirement already satisfied: numpy<3,>=1.17 in /usr/local/lib/python3.12/dist-packages (from qiskit) (2.0.2)\n",
            "Requirement already satisfied: scipy>=1.5 in /usr/local/lib/python3.12/dist-packages (from qiskit) (1.16.2)\n",
            "Requirement already satisfied: dill>=0.3 in /usr/local/lib/python3.12/dist-packages (from qiskit) (0.3.8)\n",
            "Collecting stevedore>=3.0.0 (from qiskit)\n",
            "  Downloading stevedore-5.5.0-py3-none-any.whl.metadata (2.2 kB)\n",
            "Requirement already satisfied: typing-extensions in /usr/local/lib/python3.12/dist-packages (from qiskit) (4.15.0)\n",
            "Requirement already satisfied: psutil>=5 in /usr/local/lib/python3.12/dist-packages (from qiskit-aer) (5.9.5)\n",
            "Requirement already satisfied: python-dateutil>=2.8.0 in /usr/local/lib/python3.12/dist-packages (from qiskit-aer) (2.9.0.post0)\n",
            "Requirement already satisfied: six>=1.5 in /usr/local/lib/python3.12/dist-packages (from python-dateutil>=2.8.0->qiskit-aer) (1.17.0)\n",
            "Downloading qiskit-2.2.1-cp39-abi3-manylinux2014_x86_64.manylinux_2_17_x86_64.whl (8.0 MB)\n",
            "\u001b[2K   \u001b[90m━━━━━━━━━━━━━━━━━━━━━━━━━━━━━━━━━━━━━━━━\u001b[0m \u001b[32m8.0/8.0 MB\u001b[0m \u001b[31m48.2 MB/s\u001b[0m eta \u001b[36m0:00:00\u001b[0m\n",
            "\u001b[?25hDownloading qiskit_aer-0.17.2-cp312-cp312-manylinux_2_17_x86_64.manylinux2014_x86_64.whl (12.4 MB)\n",
            "\u001b[2K   \u001b[90m━━━━━━━━━━━━━━━━━━━━━━━━━━━━━━━━━━━━━━━━\u001b[0m \u001b[32m12.4/12.4 MB\u001b[0m \u001b[31m70.2 MB/s\u001b[0m eta \u001b[36m0:00:00\u001b[0m\n",
            "\u001b[?25hDownloading rustworkx-0.17.1-cp39-abi3-manylinux_2_17_x86_64.manylinux2014_x86_64.whl (2.2 MB)\n",
            "\u001b[2K   \u001b[90m━━━━━━━━━━━━━━━━━━━━━━━━━━━━━━━━━━━━━━━━\u001b[0m \u001b[32m2.2/2.2 MB\u001b[0m \u001b[31m46.4 MB/s\u001b[0m eta \u001b[36m0:00:00\u001b[0m\n",
            "\u001b[?25hDownloading stevedore-5.5.0-py3-none-any.whl (49 kB)\n",
            "\u001b[2K   \u001b[90m━━━━━━━━━━━━━━━━━━━━━━━━━━━━━━━━━━━━━━━━\u001b[0m \u001b[32m49.5/49.5 kB\u001b[0m \u001b[31m1.8 MB/s\u001b[0m eta \u001b[36m0:00:00\u001b[0m\n",
            "\u001b[?25hInstalling collected packages: stevedore, rustworkx, qiskit, qiskit-aer\n",
            "Successfully installed qiskit-2.2.1 qiskit-aer-0.17.2 rustworkx-0.17.1 stevedore-5.5.0\n"
          ]
        }
      ]
    },
    {
      "cell_type": "code",
      "source": [
        "from qiskit import QuantumCircuit\n",
        "from qiskit_aer import AerSimulator"
      ],
      "metadata": {
        "id": "gI17i0yhrQgz"
      },
      "execution_count": null,
      "outputs": []
    },
    {
      "cell_type": "code",
      "execution_count": null,
      "metadata": {
        "id": "VPOwLacGrCdU",
        "colab": {
          "base_uri": "https://localhost:8080/"
        },
        "outputId": "864f9746-ba10-4e7d-a4f5-9845b2be41f2"
      },
      "outputs": [
        {
          "output_type": "stream",
          "name": "stdout",
          "text": [
            "|0> counts: {'0 0': 512}\n",
            "|1> counts: {'1 0': 512}\n"
          ]
        }
      ],
      "source": [
        "# Initialize |0> and |1>, measure\n",
        "from qiskit import QuantumCircuit, transpile\n",
        "from qiskit_aer import AerSimulator\n",
        "\n",
        "sim = AerSimulator()\n",
        "\n",
        "# |0> state\n",
        "qc0 = QuantumCircuit(1, 1)\n",
        "qc0.measure_all()\n",
        "job0 = sim.run(transpile(qc0, sim), shots=512).result()\n",
        "print(\"|0> counts:\", job0.get_counts())\n",
        "\n",
        "# |1> state (apply X)\n",
        "qc1 = QuantumCircuit(1, 1)\n",
        "qc1.x(0)\n",
        "qc1.measure_all()\n",
        "job1 = sim.run(transpile(qc1, sim), shots=512).result()\n",
        "print(\"|1> counts:\", job1.get_counts())"
      ]
    },
    {
      "cell_type": "code",
      "source": [
        "#Task 1: Verify |0⟩ and |1⟩\n",
        "# |0> state\n",
        "qc0 = QuantumCircuit(1, 1)\n",
        "qc0.measure_all()\n",
        "job0 = sim.run(transpile(qc0, sim), shots=512).result()\n",
        "print(\"|0> counts:\", job0.get_counts())\n",
        "\n",
        "# |1> state (apply X)\n",
        "qc1 = QuantumCircuit(1, 1)\n",
        "qc1.x(0)\n",
        "qc1.measure_all()\n",
        "job1 = sim.run(transpile(qc1, sim), shots=512).result()\n",
        "print(\"|1> counts:\", job1.get_counts())\n"
      ],
      "metadata": {
        "id": "q4YKxrChvfd4",
        "colab": {
          "base_uri": "https://localhost:8080/"
        },
        "outputId": "d57e5873-2091-4949-d038-4b7083ec0c60"
      },
      "execution_count": null,
      "outputs": [
        {
          "output_type": "stream",
          "name": "stdout",
          "text": [
            "|0> counts: {'0 0': 512}\n",
            "|1> counts: {'1 0': 512}\n"
          ]
        }
      ]
    },
    {
      "cell_type": "code",
      "source": [
        "#Question: Are the results deterministic or random? Why?\n",
        "\"\"\"\n",
        "These results are deterministic, not random.\n",
        "|0⟩ always measures 0, and |1⟩ always measures 1, because there’s no superposition — the state is definite before measurement.\n",
        "\n",
        "\"\"\""
      ],
      "metadata": {
        "colab": {
          "base_uri": "https://localhost:8080/",
          "height": 72
        },
        "id": "MfhjDkHsjnwD",
        "outputId": "908c1e7f-7b27-4163-f83d-bb47bf3c3638"
      },
      "execution_count": null,
      "outputs": [
        {
          "output_type": "execute_result",
          "data": {
            "text/plain": [
              "'\\nThese results are deterministic, not random.\\n|0⟩ always measures 0, and |1⟩ always measures 1, because there’s no superposition — the state is definite before measurement.\\n\\n'"
            ],
            "application/vnd.google.colaboratory.intrinsic+json": {
              "type": "string"
            }
          },
          "metadata": {},
          "execution_count": 5
        }
      ]
    },
    {
      "cell_type": "code",
      "source": [
        "#Task 2: Change the number of shots\n",
        "\n",
        "#10 shots\n",
        "\n",
        "# Initialize |0> and |1>, measure\n",
        "from qiskit import QuantumCircuit, transpile\n",
        "from qiskit_aer import AerSimulator\n",
        "\n",
        "sim = AerSimulator()\n",
        "\n",
        "# |0> state\n",
        "qc0 = QuantumCircuit(1, 1)\n",
        "qc0.measure_all()\n",
        "job0 = sim.run(transpile(qc0, sim), shots=10).result()\n",
        "print(\"|0> counts:\", job0.get_counts())\n",
        "\n",
        "# |1> state (apply X)\n",
        "qc1 = QuantumCircuit(1, 1)\n",
        "qc1.x(0)\n",
        "qc1.measure_all()\n",
        "job1 = sim.run(transpile(qc1, sim), shots=10).result()\n",
        "print(\"|1> counts:\", job1.get_counts())"
      ],
      "metadata": {
        "colab": {
          "base_uri": "https://localhost:8080/"
        },
        "id": "keREddnQkQLN",
        "outputId": "5f3c0e41-afa3-4129-cb0c-16e82bb7445d"
      },
      "execution_count": null,
      "outputs": [
        {
          "output_type": "stream",
          "name": "stdout",
          "text": [
            "|0> counts: {'0 0': 10}\n",
            "|1> counts: {'1 0': 10}\n"
          ]
        }
      ]
    },
    {
      "cell_type": "code",
      "source": [
        "# 1000 shots\n",
        "\n",
        "# Initialize |0> and |1>, measure\n",
        "from qiskit import QuantumCircuit, transpile\n",
        "from qiskit_aer import AerSimulator\n",
        "\n",
        "sim = AerSimulator()\n",
        "\n",
        "# |0> state\n",
        "qc0 = QuantumCircuit(1, 1)\n",
        "qc0.measure_all()\n",
        "job0 = sim.run(transpile(qc0, sim), shots=1000).result()\n",
        "print(\"|0> counts:\", job0.get_counts())\n",
        "\n",
        "# |1> state (apply X)\n",
        "qc1 = QuantumCircuit(1, 1)\n",
        "qc1.x(0)\n",
        "qc1.measure_all()\n",
        "job1 = sim.run(transpile(qc1, sim), shots=1000).result()\n",
        "print(\"|1> counts:\", job1.get_counts())"
      ],
      "metadata": {
        "colab": {
          "base_uri": "https://localhost:8080/"
        },
        "id": "KYpZwnbXlF9G",
        "outputId": "e0a38cf6-69b1-4187-a4ea-16ec3460a0d6"
      },
      "execution_count": null,
      "outputs": [
        {
          "output_type": "stream",
          "name": "stdout",
          "text": [
            "|0> counts: {'0 0': 1000}\n",
            "|1> counts: {'1 0': 1000}\n"
          ]
        }
      ]
    },
    {
      "cell_type": "code",
      "source": [
        "#Observe the results. Do they change? Why or why not?\n",
        "\n",
        "\"\"\"\n",
        "The results don’t change with the number of shots because both |0⟩ and |1⟩ are pure deterministic states.\n",
        "\n",
        "Shots just increase how many identical measurements you take.\n",
        "\"\"\""
      ],
      "metadata": {
        "id": "nwnVz0t4kyJ8"
      },
      "execution_count": null,
      "outputs": []
    },
    {
      "cell_type": "code",
      "source": [
        "#Task 3: Superposition with Hadamard\n",
        "\n",
        "# Initialize |0> and |1>, measure\n",
        "from qiskit import QuantumCircuit, transpile\n",
        "from qiskit_aer import AerSimulator\n",
        "\n",
        "sim = AerSimulator()\n",
        "\n",
        "qc = QuantumCircuit(1, 1)\n",
        "qc.h(0)\n",
        "qc.measure_all()\n",
        "job = sim.run(transpile(qc, sim), shots=512).result()\n",
        "print(\"Superposition counts:\", job.get_counts())\n",
        "\n"
      ],
      "metadata": {
        "colab": {
          "base_uri": "https://localhost:8080/"
        },
        "id": "ro4sYgqxmywZ",
        "outputId": "e0cd02bb-fb3e-4d8b-fba7-55d8cbea1b2a"
      },
      "execution_count": null,
      "outputs": [
        {
          "output_type": "stream",
          "name": "stdout",
          "text": [
            "Superposition counts: {'1 0': 257, '0 0': 255}\n"
          ]
        }
      ]
    },
    {
      "cell_type": "code",
      "source": [
        "#What outcomes do you see? Are they deterministic or probabilistic?\n",
        "\"\"\"\n",
        "The Hadamard gate makes the qubit state:\n",
        "∣𝜓⟩=1/sqrt(2)(∣0⟩+∣1⟩)\n",
        "\n",
        "Measurement outcomes are probabilistic — you’ll roughly get 50% |0⟩ and 50% |1⟩.\n",
        "\n",
        "The larger the number of shots, the closer it gets to a perfect 50–50 split.\n",
        "\"\"\""
      ],
      "metadata": {
        "id": "GefrJsW9nc2o"
      },
      "execution_count": null,
      "outputs": []
    },
    {
      "cell_type": "code",
      "source": [
        "#Task 4: Combine X and H gates\n",
        "\n",
        "# Initialize |0> and |1>, measure\n",
        "from qiskit import QuantumCircuit, transpile\n",
        "from qiskit_aer import AerSimulator\n",
        "\n",
        "sim = AerSimulator()\n",
        "qc = QuantumCircuit(1, 1)\n",
        "qc.x(0)   # flip to |1>\n",
        "qc.h(0)   # apply Hadamard on |1>\n",
        "qc.measure_all()\n",
        "job = sim.run(transpile(qc, sim), shots=512).result()\n",
        "print(\"X then H counts:\", job.get_counts())\n",
        "\n"
      ],
      "metadata": {
        "colab": {
          "base_uri": "https://localhost:8080/"
        },
        "id": "x-xahzlEoe4v",
        "outputId": "fb625b7d-30de-4cbd-dc93-a3c9c50aaf30"
      },
      "execution_count": null,
      "outputs": [
        {
          "output_type": "stream",
          "name": "stdout",
          "text": [
            "X then H counts: {'1 0': 262, '0 0': 250}\n"
          ]
        }
      ]
    },
    {
      "cell_type": "code",
      "source": [
        "#Predict the results before running: what distribution do you expect?\n",
        "\"\"\"\n",
        "The probabilities remain 50–50.\n",
        "\n",
        "Only relative phase changes, which can matter in interference but not in direct measurement.\n",
        "\"\"\""
      ],
      "metadata": {
        "id": "WkswCoato0Zi"
      },
      "execution_count": null,
      "outputs": []
    },
    {
      "cell_type": "code",
      "source": [
        "#Task 5 (Challenge): Two-qubit circuit\n",
        "# Initialize |0> and |1>, measure\n",
        "from qiskit import QuantumCircuit, transpile\n",
        "from qiskit_aer import AerSimulator\n",
        "\n",
        "sim = AerSimulator()\n",
        "\n",
        "qc = QuantumCircuit(2, 2)\n",
        "qc.x(1)  # Qubit 0 = |0>, Qubit 1 = |1>\n",
        "qc.measure_all()\n",
        "job = sim.run(transpile(qc, sim), shots=512).result()\n",
        "print(\"2-qubit |0>|1> counts:\", job.get_counts())\n",
        "\n"
      ],
      "metadata": {
        "colab": {
          "base_uri": "https://localhost:8080/"
        },
        "id": "ZXqf32-zpFaY",
        "outputId": "6f86e0a5-f869-42b4-822b-0c7474b4e4c4"
      },
      "execution_count": null,
      "outputs": [
        {
          "output_type": "stream",
          "name": "stdout",
          "text": [
            "2-qubit |0>|1> counts: {'10 00': 512}\n"
          ]
        }
      ]
    },
    {
      "cell_type": "code",
      "source": [
        "#Question: What outputs do you expect? Does the simulator confirm it?\n",
        "\"\"\"\n",
        "Qubit 0 is measured as 0, Qubit 1 as 1.\n",
        "\n",
        "Binary string order in Qiskit is reversed ('10' means qubit 1 = 1, qubit 0 = 0).\n",
        "\n",
        "Deterministic again — always the same result.\n",
        "\"\"\""
      ],
      "metadata": {
        "id": "GP4sns9VpQmI"
      },
      "execution_count": null,
      "outputs": []
    }
  ]
}